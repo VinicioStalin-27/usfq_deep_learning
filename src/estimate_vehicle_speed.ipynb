{
  "cells": [
    {
      "cell_type": "markdown",
      "metadata": {
        "id": "P_cttjd_EZN9"
      },
      "source": [
        "## Install"
      ]
    },
    {
      "cell_type": "code",
      "execution_count": null,
      "metadata": {
        "colab": {
          "base_uri": "https://localhost:8080/"
        },
        "id": "VCZ_qDnLD87m",
        "outputId": "ed178325-fbf4-4684-d6c6-2ae7fac76cc9"
      },
      "outputs": [],
      "source": [
        "# !pip install -q supervision \"ultralytics<=8.3.40\""
      ]
    },
    {
      "cell_type": "markdown",
      "metadata": {
        "id": "Tv_COh1SHvIY"
      },
      "source": [
        "## Imports"
      ]
    },
    {
      "cell_type": "code",
      "execution_count": 2,
      "metadata": {
        "colab": {
          "base_uri": "https://localhost:8080/"
        },
        "id": "RT2qm1AIHxMf",
        "outputId": "7ddfa6bb-0456-4ec0-f821-1f10bee2c30f"
      },
      "outputs": [],
      "source": [
        "import cv2\n",
        "\n",
        "import numpy as np\n",
        "import supervision as sv\n",
        "\n",
        "from tqdm import tqdm\n",
        "from ultralytics import YOLO\n",
        "from supervision.assets import VideoAssets, download_assets\n",
        "from collections import defaultdict, deque"
      ]
    },
    {
      "cell_type": "markdown",
      "metadata": {
        "id": "dNgpknBqMdEh"
      },
      "source": [
        "## Configuration"
      ]
    },
    {
      "cell_type": "code",
      "execution_count": 4,
      "metadata": {
        "id": "wYfCWNrgIKLo"
      },
      "outputs": [],
      "source": [
        "SOURCE_VIDEO_PATH = \"../media/vehicles.mp4\"\n",
        "TARGET_VIDEO_PATH = \"../media/vehicles-result.mp4\"\n",
        "CONFIDENCE_THRESHOLD = 0.3\n",
        "IOU_THRESHOLD = 0.5\n",
        "MODEL_NAME = \"../models/yolov8x.pt\"\n",
        "MODEL_RESOLUTION = 1280\n",
        "\n",
        "TARGET_WIDTH = 25\n",
        "TARGET_HEIGHT = 250\n",
        "SOURCE = np.array([[1252, 787], [2298, 803], [5039, 2159], [-550, 2159]])\n",
        "TARGET = np.array([[0, 0], [TARGET_WIDTH - 1, 0], [TARGET_WIDTH - 1, TARGET_HEIGHT - 1], [0, TARGET_HEIGHT - 1],])"
      ]
    },
    {
      "cell_type": "markdown",
      "metadata": {
        "id": "PLKeci5YLcx1"
      },
      "source": [
        "## Transform Perspective"
      ]
    },
    {
      "cell_type": "code",
      "execution_count": 8,
      "metadata": {
        "id": "1dU--OuJKkZT"
      },
      "outputs": [],
      "source": [
        "class ViewTransformer:\n",
        "\n",
        "    def __init__(self, source: np.ndarray, target: np.ndarray) -> None:\n",
        "        source = source.astype(np.float32)\n",
        "        target = target.astype(np.float32)\n",
        "        self.m = cv2.getPerspectiveTransform(source, target)\n",
        "\n",
        "    def transform_points(self, points: np.ndarray) -> np.ndarray:\n",
        "        if points.size == 0:\n",
        "            return points\n",
        "\n",
        "        reshaped_points = points.reshape(-1, 1, 2).astype(np.float32)\n",
        "        transformed_points = cv2.perspectiveTransform(reshaped_points, self.m)\n",
        "        return transformed_points.reshape(-1, 2)"
      ]
    },
    {
      "cell_type": "markdown",
      "metadata": {
        "id": "jOwbeY5USlEd"
      },
      "source": [
        "## Process Video"
      ]
    },
    {
      "cell_type": "code",
      "execution_count": null,
      "metadata": {
        "colab": {
          "base_uri": "https://localhost:8080/"
        },
        "id": "IIyG3oz5RhWO",
        "outputId": "f8d710fa-0cb3-43cb-b44e-3135701f9d59"
      },
      "outputs": [
        {
          "name": "stderr",
          "output_type": "stream",
          "text": [
            "SupervisionWarnings: BoundingBoxAnnotator is deprecated: `BoundingBoxAnnotator` is deprecated and has been renamed to `BoxAnnotator`. `BoundingBoxAnnotator` will be removed in supervision-0.26.0.\n",
            "100%|██████████| 538/538 [01:11<00:00,  7.52it/s]\n"
          ]
        }
      ],
      "source": [
        "view_transformer = ViewTransformer(source=SOURCE, target=TARGET)\n",
        "\n",
        "model = YOLO(MODEL_NAME)\n",
        "\n",
        "video_info = sv.VideoInfo.from_video_path(video_path=SOURCE_VIDEO_PATH)\n",
        "frame_generator = sv.get_video_frames_generator(source_path=SOURCE_VIDEO_PATH)\n",
        "\n",
        "# tracker initiation\n",
        "byte_track = sv.ByteTrack(frame_rate=video_info.fps)\n",
        "\n",
        "# annotators configuration\n",
        "thickness = sv.calculate_optimal_line_thickness(resolution_wh=video_info.resolution_wh)\n",
        "text_scale = sv.calculate_optimal_text_scale(resolution_wh=video_info.resolution_wh)\n",
        "bounding_box_annotator = sv.BoundingBoxAnnotator(thickness=thickness)\n",
        "label_annotator = sv.LabelAnnotator(\n",
        "    text_scale=text_scale,\n",
        "    text_thickness=thickness,\n",
        "    text_position=sv.Position.BOTTOM_CENTER\n",
        ")\n",
        "trace_annotator = sv.TraceAnnotator(\n",
        "    thickness=thickness,\n",
        "    trace_length=video_info.fps * 2,\n",
        "    position=sv.Position.BOTTOM_CENTER\n",
        ")\n",
        "polygon_zone = sv.PolygonZone(polygon=SOURCE)\n",
        "coordinates = defaultdict(lambda: deque(maxlen=video_info.fps))\n",
        "\n",
        "# open target video\n",
        "with sv.VideoSink(TARGET_VIDEO_PATH, video_info) as sink:\n",
        "\n",
        "    # loop over source video frame\n",
        "    for frame in tqdm(frame_generator, total=video_info.total_frames):\n",
        "\n",
        "        result = model(frame, imgsz=MODEL_RESOLUTION, verbose=False)[0]\n",
        "        detections = sv.Detections.from_ultralytics(result)\n",
        "\n",
        "        # filter out detections by class and confidence\n",
        "        detections = detections[detections.confidence > CONFIDENCE_THRESHOLD]\n",
        "        detections = detections[detections.class_id == 2]\n",
        "\n",
        "        # filter out detections outside the zone\n",
        "        detections = detections[polygon_zone.trigger(detections)]\n",
        "\n",
        "        # refine detections using non-max suppression\n",
        "        detections = detections.with_nms(IOU_THRESHOLD)\n",
        "\n",
        "        # pass detection through the tracker\n",
        "        detections = byte_track.update_with_detections(detections=detections)\n",
        "\n",
        "        points = detections.get_anchors_coordinates(\n",
        "            anchor=sv.Position.BOTTOM_CENTER\n",
        "        )\n",
        "\n",
        "        # calculate the detections position inside the target RoI\n",
        "        points = view_transformer.transform_points(points=points).astype(int)\n",
        "\n",
        "        # store detections position\n",
        "        for tracker_id, [_, y] in zip(detections.tracker_id, points):\n",
        "            coordinates[tracker_id].append(y)\n",
        "\n",
        "        # format labels\n",
        "        labels = []\n",
        "\n",
        "        for tracker_id in detections.tracker_id:\n",
        "            if len(coordinates[tracker_id]) < video_info.fps / 2:\n",
        "                labels.append(f\"#{tracker_id}\")\n",
        "            else:\n",
        "                # calculate speed\n",
        "                coordinate_start = coordinates[tracker_id][-1]\n",
        "                coordinate_end = coordinates[tracker_id][0]\n",
        "                distance = abs(coordinate_start - coordinate_end)\n",
        "                time = len(coordinates[tracker_id]) / video_info.fps\n",
        "                speed = distance / time * 3.6\n",
        "                labels.append(f\"#{tracker_id} {int(speed)} km/h\")\n",
        "\n",
        "        # annotate frame\n",
        "        annotated_frame = frame.copy()\n",
        "        annotated_frame = trace_annotator.annotate(\n",
        "            scene=annotated_frame, detections=detections\n",
        "        )\n",
        "        annotated_frame = bounding_box_annotator.annotate(\n",
        "            scene=annotated_frame, detections=detections\n",
        "        )\n",
        "        annotated_frame = label_annotator.annotate(\n",
        "            scene=annotated_frame, detections=detections, labels=labels\n",
        "        )\n",
        "\n",
        "        # add frame to target video\n",
        "        sink.write_frame(annotated_frame)"
      ]
    },
    {
      "cell_type": "code",
      "execution_count": null,
      "metadata": {
        "id": "cafBNdnATBRM"
      },
      "outputs": [],
      "source": []
    }
  ],
  "metadata": {
    "accelerator": "GPU",
    "colab": {
      "gpuType": "T4",
      "provenance": []
    },
    "kernelspec": {
      "display_name": "Python 3",
      "name": "python3"
    },
    "language_info": {
      "codemirror_mode": {
        "name": "ipython",
        "version": 3
      },
      "file_extension": ".py",
      "mimetype": "text/x-python",
      "name": "python",
      "nbconvert_exporter": "python",
      "pygments_lexer": "ipython3",
      "version": "3.10.12"
    },
    "widgets": {
      "application/vnd.jupyter.widget-state+json": {
        "0667d8c78f584c1d803c0d677ce9c6fd": {
          "model_module": "@jupyter-widgets/controls",
          "model_module_version": "1.5.0",
          "model_name": "HTMLModel",
          "state": {
            "_dom_classes": [],
            "_model_module": "@jupyter-widgets/controls",
            "_model_module_version": "1.5.0",
            "_model_name": "HTMLModel",
            "_view_count": null,
            "_view_module": "@jupyter-widgets/controls",
            "_view_module_version": "1.5.0",
            "_view_name": "HTMLView",
            "description": "",
            "description_tooltip": null,
            "layout": "IPY_MODEL_4c8dc5a47b914040a4d40699e911d07f",
            "placeholder": "​",
            "style": "IPY_MODEL_acbdbc091ce84f3ebdd99c12c50db3d7",
            "value": " 33.7M/33.7M [00:01&lt;00:00, 34.9MB/s]"
          }
        },
        "2c7a9bd415f445509a82038c92d2a14f": {
          "model_module": "@jupyter-widgets/controls",
          "model_module_version": "1.5.0",
          "model_name": "DescriptionStyleModel",
          "state": {
            "_model_module": "@jupyter-widgets/controls",
            "_model_module_version": "1.5.0",
            "_model_name": "DescriptionStyleModel",
            "_view_count": null,
            "_view_module": "@jupyter-widgets/base",
            "_view_module_version": "1.2.0",
            "_view_name": "StyleView",
            "description_width": ""
          }
        },
        "4c8dc5a47b914040a4d40699e911d07f": {
          "model_module": "@jupyter-widgets/base",
          "model_module_version": "1.2.0",
          "model_name": "LayoutModel",
          "state": {
            "_model_module": "@jupyter-widgets/base",
            "_model_module_version": "1.2.0",
            "_model_name": "LayoutModel",
            "_view_count": null,
            "_view_module": "@jupyter-widgets/base",
            "_view_module_version": "1.2.0",
            "_view_name": "LayoutView",
            "align_content": null,
            "align_items": null,
            "align_self": null,
            "border": null,
            "bottom": null,
            "display": null,
            "flex": null,
            "flex_flow": null,
            "grid_area": null,
            "grid_auto_columns": null,
            "grid_auto_flow": null,
            "grid_auto_rows": null,
            "grid_column": null,
            "grid_gap": null,
            "grid_row": null,
            "grid_template_areas": null,
            "grid_template_columns": null,
            "grid_template_rows": null,
            "height": null,
            "justify_content": null,
            "justify_items": null,
            "left": null,
            "margin": null,
            "max_height": null,
            "max_width": null,
            "min_height": null,
            "min_width": null,
            "object_fit": null,
            "object_position": null,
            "order": null,
            "overflow": null,
            "overflow_x": null,
            "overflow_y": null,
            "padding": null,
            "right": null,
            "top": null,
            "visibility": null,
            "width": null
          }
        },
        "5bf03e4d87ec45b7b38fa9fb8a27bcaa": {
          "model_module": "@jupyter-widgets/controls",
          "model_module_version": "1.5.0",
          "model_name": "FloatProgressModel",
          "state": {
            "_dom_classes": [],
            "_model_module": "@jupyter-widgets/controls",
            "_model_module_version": "1.5.0",
            "_model_name": "FloatProgressModel",
            "_view_count": null,
            "_view_module": "@jupyter-widgets/controls",
            "_view_module_version": "1.5.0",
            "_view_name": "ProgressView",
            "bar_style": "success",
            "description": "",
            "description_tooltip": null,
            "layout": "IPY_MODEL_a1f74071bd994c1d8077fbeb1e27124a",
            "max": 35345757,
            "min": 0,
            "orientation": "horizontal",
            "style": "IPY_MODEL_f9089d750ca948a2b815d8d218f0a858",
            "value": 35345757
          }
        },
        "618ed21d6c6a4d2f92c0d8abb21b222f": {
          "model_module": "@jupyter-widgets/controls",
          "model_module_version": "1.5.0",
          "model_name": "HTMLModel",
          "state": {
            "_dom_classes": [],
            "_model_module": "@jupyter-widgets/controls",
            "_model_module_version": "1.5.0",
            "_model_name": "HTMLModel",
            "_view_count": null,
            "_view_module": "@jupyter-widgets/controls",
            "_view_module_version": "1.5.0",
            "_view_name": "HTMLView",
            "description": "",
            "description_tooltip": null,
            "layout": "IPY_MODEL_bd22f427deaa4b34a8ad2e15f6565ec4",
            "placeholder": "​",
            "style": "IPY_MODEL_2c7a9bd415f445509a82038c92d2a14f",
            "value": "100%"
          }
        },
        "a1f74071bd994c1d8077fbeb1e27124a": {
          "model_module": "@jupyter-widgets/base",
          "model_module_version": "1.2.0",
          "model_name": "LayoutModel",
          "state": {
            "_model_module": "@jupyter-widgets/base",
            "_model_module_version": "1.2.0",
            "_model_name": "LayoutModel",
            "_view_count": null,
            "_view_module": "@jupyter-widgets/base",
            "_view_module_version": "1.2.0",
            "_view_name": "LayoutView",
            "align_content": null,
            "align_items": null,
            "align_self": null,
            "border": null,
            "bottom": null,
            "display": null,
            "flex": null,
            "flex_flow": null,
            "grid_area": null,
            "grid_auto_columns": null,
            "grid_auto_flow": null,
            "grid_auto_rows": null,
            "grid_column": null,
            "grid_gap": null,
            "grid_row": null,
            "grid_template_areas": null,
            "grid_template_columns": null,
            "grid_template_rows": null,
            "height": null,
            "justify_content": null,
            "justify_items": null,
            "left": null,
            "margin": null,
            "max_height": null,
            "max_width": null,
            "min_height": null,
            "min_width": null,
            "object_fit": null,
            "object_position": null,
            "order": null,
            "overflow": null,
            "overflow_x": null,
            "overflow_y": null,
            "padding": null,
            "right": null,
            "top": null,
            "visibility": null,
            "width": null
          }
        },
        "acbdbc091ce84f3ebdd99c12c50db3d7": {
          "model_module": "@jupyter-widgets/controls",
          "model_module_version": "1.5.0",
          "model_name": "DescriptionStyleModel",
          "state": {
            "_model_module": "@jupyter-widgets/controls",
            "_model_module_version": "1.5.0",
            "_model_name": "DescriptionStyleModel",
            "_view_count": null,
            "_view_module": "@jupyter-widgets/base",
            "_view_module_version": "1.2.0",
            "_view_name": "StyleView",
            "description_width": ""
          }
        },
        "bd22f427deaa4b34a8ad2e15f6565ec4": {
          "model_module": "@jupyter-widgets/base",
          "model_module_version": "1.2.0",
          "model_name": "LayoutModel",
          "state": {
            "_model_module": "@jupyter-widgets/base",
            "_model_module_version": "1.2.0",
            "_model_name": "LayoutModel",
            "_view_count": null,
            "_view_module": "@jupyter-widgets/base",
            "_view_module_version": "1.2.0",
            "_view_name": "LayoutView",
            "align_content": null,
            "align_items": null,
            "align_self": null,
            "border": null,
            "bottom": null,
            "display": null,
            "flex": null,
            "flex_flow": null,
            "grid_area": null,
            "grid_auto_columns": null,
            "grid_auto_flow": null,
            "grid_auto_rows": null,
            "grid_column": null,
            "grid_gap": null,
            "grid_row": null,
            "grid_template_areas": null,
            "grid_template_columns": null,
            "grid_template_rows": null,
            "height": null,
            "justify_content": null,
            "justify_items": null,
            "left": null,
            "margin": null,
            "max_height": null,
            "max_width": null,
            "min_height": null,
            "min_width": null,
            "object_fit": null,
            "object_position": null,
            "order": null,
            "overflow": null,
            "overflow_x": null,
            "overflow_y": null,
            "padding": null,
            "right": null,
            "top": null,
            "visibility": null,
            "width": null
          }
        },
        "d806e7d3b93a488e82d13e6237982ae7": {
          "model_module": "@jupyter-widgets/base",
          "model_module_version": "1.2.0",
          "model_name": "LayoutModel",
          "state": {
            "_model_module": "@jupyter-widgets/base",
            "_model_module_version": "1.2.0",
            "_model_name": "LayoutModel",
            "_view_count": null,
            "_view_module": "@jupyter-widgets/base",
            "_view_module_version": "1.2.0",
            "_view_name": "LayoutView",
            "align_content": null,
            "align_items": null,
            "align_self": null,
            "border": null,
            "bottom": null,
            "display": null,
            "flex": null,
            "flex_flow": null,
            "grid_area": null,
            "grid_auto_columns": null,
            "grid_auto_flow": null,
            "grid_auto_rows": null,
            "grid_column": null,
            "grid_gap": null,
            "grid_row": null,
            "grid_template_areas": null,
            "grid_template_columns": null,
            "grid_template_rows": null,
            "height": null,
            "justify_content": null,
            "justify_items": null,
            "left": null,
            "margin": null,
            "max_height": null,
            "max_width": null,
            "min_height": null,
            "min_width": null,
            "object_fit": null,
            "object_position": null,
            "order": null,
            "overflow": null,
            "overflow_x": null,
            "overflow_y": null,
            "padding": null,
            "right": null,
            "top": null,
            "visibility": null,
            "width": null
          }
        },
        "f8c1e11ddd0545fda89d75b4ef0e3727": {
          "model_module": "@jupyter-widgets/controls",
          "model_module_version": "1.5.0",
          "model_name": "HBoxModel",
          "state": {
            "_dom_classes": [],
            "_model_module": "@jupyter-widgets/controls",
            "_model_module_version": "1.5.0",
            "_model_name": "HBoxModel",
            "_view_count": null,
            "_view_module": "@jupyter-widgets/controls",
            "_view_module_version": "1.5.0",
            "_view_name": "HBoxView",
            "box_style": "",
            "children": [
              "IPY_MODEL_618ed21d6c6a4d2f92c0d8abb21b222f",
              "IPY_MODEL_5bf03e4d87ec45b7b38fa9fb8a27bcaa",
              "IPY_MODEL_0667d8c78f584c1d803c0d677ce9c6fd"
            ],
            "layout": "IPY_MODEL_d806e7d3b93a488e82d13e6237982ae7"
          }
        },
        "f9089d750ca948a2b815d8d218f0a858": {
          "model_module": "@jupyter-widgets/controls",
          "model_module_version": "1.5.0",
          "model_name": "ProgressStyleModel",
          "state": {
            "_model_module": "@jupyter-widgets/controls",
            "_model_module_version": "1.5.0",
            "_model_name": "ProgressStyleModel",
            "_view_count": null,
            "_view_module": "@jupyter-widgets/base",
            "_view_module_version": "1.2.0",
            "_view_name": "StyleView",
            "bar_color": "#a351fb",
            "description_width": ""
          }
        }
      }
    }
  },
  "nbformat": 4,
  "nbformat_minor": 0
}
